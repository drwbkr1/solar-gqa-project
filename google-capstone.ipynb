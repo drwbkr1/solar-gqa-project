{
 "cells": [
  {
   "cell_type": "code",
   "execution_count": 1,
   "id": "37bad109",
   "metadata": {
    "_cell_guid": "b1076dfc-b9ad-4769-8c92-a6c4dae69d19",
    "_uuid": "8f2839f25d086af736a60e9eeb907d3b93b6e0e5",
    "execution": {
     "iopub.execute_input": "2025-04-08T21:11:27.228905Z",
     "iopub.status.busy": "2025-04-08T21:11:27.228382Z",
     "iopub.status.idle": "2025-04-08T21:12:21.819454Z",
     "shell.execute_reply": "2025-04-08T21:12:21.817993Z"
    },
    "papermill": {
     "duration": 54.597647,
     "end_time": "2025-04-08T21:12:21.821486",
     "exception": false,
     "start_time": "2025-04-08T21:11:27.223839",
     "status": "completed"
    },
    "tags": []
   },
   "outputs": [
    {
     "name": "stdout",
     "output_type": "stream",
     "text": [
      "\u001b[2K     \u001b[90m━━━━━━━━━━━━━━━━━━━━━━━━━━━━━━━━━━━━━━━━\u001b[0m \u001b[32m67.3/67.3 kB\u001b[0m \u001b[31m2.0 MB/s\u001b[0m eta \u001b[36m0:00:00\u001b[0m\r\n",
      "\u001b[?25h  Installing build dependencies ... \u001b[?25l\u001b[?25hdone\r\n",
      "  Getting requirements to build wheel ... \u001b[?25l\u001b[?25hdone\r\n",
      "  Preparing metadata (pyproject.toml) ... \u001b[?25l\u001b[?25hdone\r\n",
      "\u001b[2K   \u001b[90m━━━━━━━━━━━━━━━━━━━━━━━━━━━━━━━━━━━━━━━━\u001b[0m \u001b[32m18.3/18.3 MB\u001b[0m \u001b[31m66.6 MB/s\u001b[0m eta \u001b[36m0:00:00\u001b[0m\r\n",
      "\u001b[2K   \u001b[90m━━━━━━━━━━━━━━━━━━━━━━━━━━━━━━━━━━━━━━━━\u001b[0m \u001b[32m2.4/2.4 MB\u001b[0m \u001b[31m42.1 MB/s\u001b[0m eta \u001b[36m0:00:00\u001b[0m\r\n",
      "\u001b[2K   \u001b[90m━━━━━━━━━━━━━━━━━━━━━━━━━━━━━━━━━━━━━━━━\u001b[0m \u001b[32m94.9/94.9 kB\u001b[0m \u001b[31m3.7 MB/s\u001b[0m eta \u001b[36m0:00:00\u001b[0m\r\n",
      "\u001b[2K   \u001b[90m━━━━━━━━━━━━━━━━━━━━━━━━━━━━━━━━━━━━━━━━\u001b[0m \u001b[32m284.2/284.2 kB\u001b[0m \u001b[31m11.3 MB/s\u001b[0m eta \u001b[36m0:00:00\u001b[0m\r\n",
      "\u001b[2K   \u001b[90m━━━━━━━━━━━━━━━━━━━━━━━━━━━━━━━━━━━━━━━━\u001b[0m \u001b[32m2.0/2.0 MB\u001b[0m \u001b[31m49.4 MB/s\u001b[0m eta \u001b[36m0:00:00\u001b[0m\r\n",
      "\u001b[2K   \u001b[90m━━━━━━━━━━━━━━━━━━━━━━━━━━━━━━━━━━━━━━━━\u001b[0m \u001b[32m99.2/99.2 kB\u001b[0m \u001b[31m3.1 MB/s\u001b[0m eta \u001b[36m0:00:00\u001b[0m\r\n",
      "\u001b[2K   \u001b[90m━━━━━━━━━━━━━━━━━━━━━━━━━━━━━━━━━━━━━━━━\u001b[0m \u001b[32m16.0/16.0 MB\u001b[0m \u001b[31m64.2 MB/s\u001b[0m eta \u001b[36m0:00:00\u001b[0m\r\n",
      "\u001b[2K   \u001b[90m━━━━━━━━━━━━━━━━━━━━━━━━━━━━━━━━━━━━━━━━\u001b[0m \u001b[32m55.9/55.9 kB\u001b[0m \u001b[31m2.3 MB/s\u001b[0m eta \u001b[36m0:00:00\u001b[0m\r\n",
      "\u001b[2K   \u001b[90m━━━━━━━━━━━━━━━━━━━━━━━━━━━━━━━━━━━━━━━━\u001b[0m \u001b[32m183.4/183.4 kB\u001b[0m \u001b[31m5.9 MB/s\u001b[0m eta \u001b[36m0:00:00\u001b[0m\r\n",
      "\u001b[2K   \u001b[90m━━━━━━━━━━━━━━━━━━━━━━━━━━━━━━━━━━━━━━━━\u001b[0m \u001b[32m65.2/65.2 kB\u001b[0m \u001b[31m2.1 MB/s\u001b[0m eta \u001b[36m0:00:00\u001b[0m\r\n",
      "\u001b[2K   \u001b[90m━━━━━━━━━━━━━━━━━━━━━━━━━━━━━━━━━━━━━━━━\u001b[0m \u001b[32m118.9/118.9 kB\u001b[0m \u001b[31m4.5 MB/s\u001b[0m eta \u001b[36m0:00:00\u001b[0m\r\n",
      "\u001b[2K   \u001b[90m━━━━━━━━━━━━━━━━━━━━━━━━━━━━━━━━━━━━━━━━\u001b[0m \u001b[32m85.0/85.0 kB\u001b[0m \u001b[31m4.0 MB/s\u001b[0m eta \u001b[36m0:00:00\u001b[0m\r\n",
      "\u001b[2K   \u001b[90m━━━━━━━━━━━━━━━━━━━━━━━━━━━━━━━━━━━━━━━━\u001b[0m \u001b[32m62.3/62.3 kB\u001b[0m \u001b[31m2.6 MB/s\u001b[0m eta \u001b[36m0:00:00\u001b[0m\r\n",
      "\u001b[2K   \u001b[90m━━━━━━━━━━━━━━━━━━━━━━━━━━━━━━━━━━━━━━━━\u001b[0m \u001b[32m442.1/442.1 kB\u001b[0m \u001b[31m18.4 MB/s\u001b[0m eta \u001b[36m0:00:00\u001b[0m\r\n",
      "\u001b[2K   \u001b[90m━━━━━━━━━━━━━━━━━━━━━━━━━━━━━━━━━━━━━━━━\u001b[0m \u001b[32m319.7/319.7 kB\u001b[0m \u001b[31m13.3 MB/s\u001b[0m eta \u001b[36m0:00:00\u001b[0m\r\n",
      "\u001b[2K   \u001b[90m━━━━━━━━━━━━━━━━━━━━━━━━━━━━━━━━━━━━━━━━\u001b[0m \u001b[32m71.5/71.5 kB\u001b[0m \u001b[31m2.9 MB/s\u001b[0m eta \u001b[36m0:00:00\u001b[0m\r\n",
      "\u001b[2K   \u001b[90m━━━━━━━━━━━━━━━━━━━━━━━━━━━━━━━━━━━━━━━━\u001b[0m \u001b[32m3.8/3.8 MB\u001b[0m \u001b[31m60.7 MB/s\u001b[0m eta \u001b[36m0:00:00\u001b[0m\r\n",
      "\u001b[2K   \u001b[90m━━━━━━━━━━━━━━━━━━━━━━━━━━━━━━━━━━━━━━━━\u001b[0m \u001b[32m454.9/454.9 kB\u001b[0m \u001b[31m20.3 MB/s\u001b[0m eta \u001b[36m0:00:00\u001b[0m\r\n",
      "\u001b[2K   \u001b[90m━━━━━━━━━━━━━━━━━━━━━━━━━━━━━━━━━━━━━━━━\u001b[0m \u001b[32m46.0/46.0 kB\u001b[0m \u001b[31m1.8 MB/s\u001b[0m eta \u001b[36m0:00:00\u001b[0m\r\n",
      "\u001b[2K   \u001b[90m━━━━━━━━━━━━━━━━━━━━━━━━━━━━━━━━━━━━━━━━\u001b[0m \u001b[32m86.8/86.8 kB\u001b[0m \u001b[31m4.3 MB/s\u001b[0m eta \u001b[36m0:00:00\u001b[0m\r\n",
      "\u001b[?25h  Building wheel for pypika (pyproject.toml) ... \u001b[?25l\u001b[?25hdone\r\n",
      "\u001b[31mERROR: pip's dependency resolver does not currently take into account all the packages that are installed. This behaviour is the source of the following dependency conflicts.\r\n",
      "gcsfs 2024.10.0 requires fsspec==2024.10.0, but you have fsspec 2024.12.0 which is incompatible.\r\n",
      "google-api-core 1.34.1 requires protobuf!=3.20.0,!=3.20.1,!=4.21.0,!=4.21.1,!=4.21.2,!=4.21.3,!=4.21.4,!=4.21.5,<4.0.0dev,>=3.19.5, but you have protobuf 5.29.4 which is incompatible.\r\n",
      "google-cloud-bigtable 2.27.0 requires google-api-core[grpc]<3.0.0dev,>=2.16.0, but you have google-api-core 1.34.1 which is incompatible.\r\n",
      "google-cloud-translate 3.12.1 requires protobuf!=3.20.0,!=3.20.1,!=4.21.0,!=4.21.1,!=4.21.2,!=4.21.3,!=4.21.4,!=4.21.5,<5.0.0dev,>=3.19.5, but you have protobuf 5.29.4 which is incompatible.\r\n",
      "pandas-gbq 0.25.0 requires google-api-core<3.0.0dev,>=2.10.2, but you have google-api-core 1.34.1 which is incompatible.\r\n",
      "tensorflow 2.17.1 requires protobuf!=4.21.0,!=4.21.1,!=4.21.2,!=4.21.3,!=4.21.4,!=4.21.5,<5.0.0dev,>=3.20.3, but you have protobuf 5.29.4 which is incompatible.\r\n",
      "tensorflow-decision-forests 1.10.0 requires tensorflow==2.17.0, but you have tensorflow 2.17.1 which is incompatible.\r\n",
      "tensorflow-metadata 1.13.1 requires protobuf<5,>=3.20.3, but you have protobuf 5.29.4 which is incompatible.\u001b[0m\u001b[31m\r\n",
      "\u001b[0m/kaggle/input/nem-test-pdf/nem_fact_sheet.pdf\n",
      "All libraries imported successfully!\n"
     ]
    }
   ],
   "source": [
    "# Install any additional libraries not pre-installed on Kaggle\n",
    "\n",
    "!pip install langchain chromadb openai beautifulsoup4 --quiet\n",
    "\n",
    "# Standard libraries\n",
    "import os\n",
    "import numpy as np\n",
    "import pandas as pd\n",
    "import requests\n",
    "from bs4 import BeautifulSoup\n",
    "\n",
    "# Additional libraries from pip\n",
    "import langchain\n",
    "import chromadb\n",
    "import openai\n",
    "\n",
    "# Input data files are available in the read-only \"../input/\" directory\n",
    "# For example, running this (by clicking run or pressing Shift+Enter) will list all files under the input directory\n",
    "\n",
    "import os\n",
    "for dirname, _, filenames in os.walk('/kaggle/input'):\n",
    "    for filename in filenames:\n",
    "        print(os.path.join(dirname, filename))\n",
    "\n",
    "print(\"All libraries imported successfully!\")\n"
   ]
  },
  {
   "cell_type": "code",
   "execution_count": 2,
   "id": "b7722fd0",
   "metadata": {
    "execution": {
     "iopub.execute_input": "2025-04-08T21:12:21.834508Z",
     "iopub.status.busy": "2025-04-08T21:12:21.834127Z",
     "iopub.status.idle": "2025-04-08T21:12:21.841117Z",
     "shell.execute_reply": "2025-04-08T21:12:21.839684Z"
    },
    "papermill": {
     "duration": 0.015428,
     "end_time": "2025-04-08T21:12:21.842975",
     "exception": false,
     "start_time": "2025-04-08T21:12:21.827547",
     "status": "completed"
    },
    "tags": []
   },
   "outputs": [
    {
     "name": "stdout",
     "output_type": "stream",
     "text": [
      "✅ Basic directory structure created successfully!\n"
     ]
    }
   ],
   "source": [
    "os.makedirs('/kaggle/working/raw', exist_ok=True)\n",
    "os.makedirs('/kaggle/working/processed', exist_ok=True)\n",
    "os.makedirs('/kaggle/working/metadata', exist_ok=True)\n",
    "\n",
    "print(\"✅ Basic directory structure created successfully!\")"
   ]
  },
  {
   "cell_type": "code",
   "execution_count": 3,
   "id": "583e5d43",
   "metadata": {
    "execution": {
     "iopub.execute_input": "2025-04-08T21:12:21.855579Z",
     "iopub.status.busy": "2025-04-08T21:12:21.855125Z",
     "iopub.status.idle": "2025-04-08T21:12:21.987105Z",
     "shell.execute_reply": "2025-04-08T21:12:21.985151Z"
    },
    "papermill": {
     "duration": 0.140638,
     "end_time": "2025-04-08T21:12:21.989283",
     "exception": false,
     "start_time": "2025-04-08T21:12:21.848645",
     "status": "completed"
    },
    "tags": []
   },
   "outputs": [
    {
     "name": "stdout",
     "output_type": "stream",
     "text": [
      "total 44\r\n",
      "drwxr-xr-x 2 root root  4096 Apr  8 21:12 metadata\r\n",
      "---------- 1 root root 28787 Apr  8 21:12 __notebook__.ipynb\r\n",
      "drwxr-xr-x 2 root root  4096 Apr  8 21:12 processed\r\n",
      "drwxr-xr-x 2 root root  4096 Apr  8 21:12 raw\r\n"
     ]
    }
   ],
   "source": [
    "!ls -l /kaggle/working/"
   ]
  },
  {
   "cell_type": "code",
   "execution_count": 4,
   "id": "10f7743a",
   "metadata": {
    "execution": {
     "iopub.execute_input": "2025-04-08T21:12:22.003130Z",
     "iopub.status.busy": "2025-04-08T21:12:22.002693Z",
     "iopub.status.idle": "2025-04-08T21:12:22.135318Z",
     "shell.execute_reply": "2025-04-08T21:12:22.133441Z"
    },
    "papermill": {
     "duration": 0.142514,
     "end_time": "2025-04-08T21:12:22.137504",
     "exception": false,
     "start_time": "2025-04-08T21:12:21.994990",
     "status": "completed"
    },
    "tags": []
   },
   "outputs": [
    {
     "name": "stdout",
     "output_type": "stream",
     "text": [
      "total 0\r\n"
     ]
    }
   ],
   "source": [
    "!ls -l /kaggle/working/raw/"
   ]
  },
  {
   "cell_type": "code",
   "execution_count": 5,
   "id": "7ff23e45",
   "metadata": {
    "execution": {
     "iopub.execute_input": "2025-04-08T21:12:22.151638Z",
     "iopub.status.busy": "2025-04-08T21:12:22.151182Z",
     "iopub.status.idle": "2025-04-08T21:12:22.289343Z",
     "shell.execute_reply": "2025-04-08T21:12:22.287729Z"
    },
    "papermill": {
     "duration": 0.147744,
     "end_time": "2025-04-08T21:12:22.291451",
     "exception": false,
     "start_time": "2025-04-08T21:12:22.143707",
     "status": "completed"
    },
    "tags": []
   },
   "outputs": [],
   "source": [
    "!cp /kaggle/input/nem-test-pdf/nem_fact_sheet.pdf /kaggle/working/raw/"
   ]
  },
  {
   "cell_type": "code",
   "execution_count": 6,
   "id": "4324ac2b",
   "metadata": {
    "execution": {
     "iopub.execute_input": "2025-04-08T21:12:22.304171Z",
     "iopub.status.busy": "2025-04-08T21:12:22.303746Z",
     "iopub.status.idle": "2025-04-08T21:12:22.430592Z",
     "shell.execute_reply": "2025-04-08T21:12:22.428812Z"
    },
    "papermill": {
     "duration": 0.136912,
     "end_time": "2025-04-08T21:12:22.433986",
     "exception": false,
     "start_time": "2025-04-08T21:12:22.297074",
     "status": "completed"
    },
    "tags": []
   },
   "outputs": [
    {
     "name": "stdout",
     "output_type": "stream",
     "text": [
      "total 144\r\n",
      "-rw-r--r-- 1 root root 145957 Apr  8 21:12 nem_fact_sheet.pdf\r\n"
     ]
    }
   ],
   "source": [
    "!ls -l /kaggle/working/raw/"
   ]
  },
  {
   "cell_type": "code",
   "execution_count": 7,
   "id": "c5109c10",
   "metadata": {
    "execution": {
     "iopub.execute_input": "2025-04-08T21:12:22.449979Z",
     "iopub.status.busy": "2025-04-08T21:12:22.449573Z",
     "iopub.status.idle": "2025-04-08T21:12:28.358960Z",
     "shell.execute_reply": "2025-04-08T21:12:28.357125Z"
    },
    "papermill": {
     "duration": 5.919957,
     "end_time": "2025-04-08T21:12:28.361001",
     "exception": false,
     "start_time": "2025-04-08T21:12:22.441044",
     "status": "completed"
    },
    "tags": []
   },
   "outputs": [
    {
     "name": "stdout",
     "output_type": "stream",
     "text": [
      "\u001b[2K   \u001b[90m━━━━━━━━━━━━━━━━━━━━━━━━━━━━━━━━━━━━━━━━\u001b[0m \u001b[32m232.6/232.6 kB\u001b[0m \u001b[31m4.1 MB/s\u001b[0m eta \u001b[36m0:00:00\u001b[0m\r\n",
      "\u001b[?25h🔍 PDF Content Preview:\n",
      "\n",
      " \n",
      " Fact Sheet:  \n",
      "Modernizing NEM to Meet California’s Reliability and Climate  Goals  \n",
      "Proceeding R.20-08-020 | www.cpuc.ca.gov/nemrevisit  | November 10, 2022  \n",
      "CPUC Releases New Proposed Decision to  \n",
      "Update the Net Energy Metering (NEM)  Tariff to Support the Modern Grid  \n",
      "The Proposal Promotes Solar and Battery Storage, Supports Grid Reliability,  and \n",
      "Controls Electricity Costs for All Californians  \n",
      " \n",
      "• On November 10, 2022, the California Public Utilities Commission ( CPUC ) released a new \n",
      "proposal  to modernize rooftop solar and storage  through updated incentives .  \n",
      "• New r esidential customer s install ing solar will save $100 a month on their electricity bill s on \n",
      "average,  and those installing solar and battery storage will save  at least  $136 a month  on \n",
      "average.  With th ese savings, these customers will fully pay off their solar systems in just nine \n",
      "years or less .1  \n",
      "• The proposa l credits customers for the electricity they export based on its value to the grid.  \n",
      "• It financially incentivizes  customers to install battery storage  so they can store solar electricity \n",
      "produced in the daytime and export it in the evening , when the grid needs  it the most for \n",
      "reliability and displacing fossil fuels. \n",
      "• There is an  additional  $900 million in state funding approved by the Legislature for residential \n",
      "solar plus battery storage adopters.  \n",
      "• The proposal does not affect existing rooftop solar customers , and it does not include any \n",
      "charges specific to solar customers.  \n",
      "The Proposal:  \n",
      "Promotes Consumer Adoption of Solar and Battery Storage  \n",
      "• The proposal financially incentivizes Californians to install both battery and solar systems as well \n",
      "as adopt  electrification measures —like electric vehicles and heat pump water heaters —all of \n",
      "which support grid reliability.  \n",
      "• The proposal provides  extra electricity bill credits to  residential  customers who adopt solar or  \n",
      "solar paired with battery storage in the ne xt five years. Customers lock in these extra bill credits \n",
      "for nine years.  \n",
      "• The proposal controls electricity costs and improves electric bill affordability for all Californians  \n",
      "by creating  more grid value , and payments to new solar and solar plus storage customers are \n",
      "calibrated to that value.  \n",
      " \n",
      "1 The new proposed tariff would apply to Pacific Gas and Electric  Company  (PG&E), Southern California Edison (SCE), and San Diego Gas & \n",
      "Electric (SDG&E) customers. A tariff lays out the electric rates and charges for a customer class .  \n",
      " • The proposal has no impact on existing rooftop solar customers. Existing solar  customers will \n",
      "maintain their current compe nsation rates.  \n",
      "Supports  the Solar and Battery Storage Industr ies  \n",
      "• The proposal g ives time for  solar companies and installers  to transition to a thriving solar plus \n",
      "storage battery marketplace, which will bolster the local green energy economy.  The \n",
      "proposal does this by providing extra bill credits to residential customer s who adopt solar over \n",
      "the next five years, which allows industry to gradually transition from  solar-only sales  to solar \n",
      "plus battery storage sales.  \n",
      "Supports Equity   \n",
      "• The new tar iff works together with  an additional  $900 million in upfront incentives for residential \n",
      "solar plus battery storage adopters ; $630 million of the $900 million will go directly to low -\n",
      "income adopters . \n",
      "• It provides  low-income customers more access to solar by providing a larger amount of  extra \n",
      "bill credi ts to ensure the  solar system  payback is  just as attractive as the payback for higher -\n",
      "income customers making it possible to pay back for the system within just nine years with \n",
      "energy bill savings.  \n",
      "Supports  Grid Reliability Through Improved Price Signals  \n",
      "• The proposal applies new residential rates that  financially  incentivize electricity use when it  is \n",
      "most beneficial for grid reliability. The rates  financially incentivize  technolog ies like battery \n",
      "storage, electric vehicles , and heat pump water heaters , which are important for achieving \n",
      "carbon neutrality.  \n",
      "• The new tariff  also credits solar and solar plus battery storage customers for the electricity they \n",
      "export to  the grid based on its value, as determined by the avoided cost to their utility of  \n",
      "buying clean electricity elsewhere.  This will incentivize solar exports during the late aft ernoon \n",
      "and early evening hours,  particularly in the summer, when the  grid is the most stressed . \n",
      "• The extra payments solar and solar plus battery customers receive if they install systems in the \n",
      "next five years are paid on top of  these avoided cost electrici ty bill credits . \n",
      "Why the NEM Tariff Needs to Be Modernized  \n",
      "• Assembly Bill 327 (Perea, 2013) require s the CPUC to reform its existing NEM tariff . The CPUC \n",
      "partially revised the NEM tariff in 2016, creating NEM 2.0, and committed to return to the effort \n",
      "after obtaining more information. Accordingly, the CPUC initiated its current reform of NEM 2.0 \n",
      "in 2019.  \n",
      "• Since its creation more than  20 years ago, t he NEM tariff has successfully enabled 1.5 million \n",
      "customers to install more than  12,000 megawatts of renewable generation . However, NEM 2.0 \n",
      "is not aligned with California’s current reliability and climate change goals.  \n",
      "• When the sun starts to set in the late afternoon and early evening hours, output from solar \n",
      "declines, and other energy resources, primarily fossil gas plants, must ramp up and fill in the  \n",
      " gap to meet electricity demand. As a result, during the hours between  4 and 9 p .m., \n",
      "greenhouse gas  emissions  are at their highest.  A new tariff structure that incentives widespread \n",
      "battery storage adoption will better support our current grid needs, b ecause battery storage \n",
      "allows customers to save solar energy for us e or export in the evening hours, contributing to \n",
      "grid reliability and the displacement of  fossil fuels. \n",
      "• NEM customers are conne cted to the grid and intermittently  import and export electricity \n",
      "throughout the day . The new tariff  updates price signals and compensation for solar and solar \n",
      "plus battery storage customers, which will improve these customers ’ interaction  with and \n",
      "contributions to  the grid.  \n",
      "Next Steps  \n",
      "• Parties  may file comments on the Proposed Decision within 20 days and reply co mments by 5 \n",
      "days thereafter , and the public may comment at any time on the Docket Card . \n",
      "• The Proposed Decision may be heard, at the earliest, at the CPUC’ s December 15, 2022, \n",
      "Voting Meeting. To confirm when it will be heard, see the agenda and hold list posted on the \n",
      "CPUC website . \n",
      "• If adopted, the Proposed Decision would go into effect  for new solar customers four months \n",
      "after issuance of the final Decision. This will not impact customers currently taking service under \n",
      "the NEM 2.0 tariff.  \n",
      "• If adopted, the next phase of the NEM revisit proceeding will include a Ruling to seek \n",
      "stakeholder input on an evaluation of the new tariff , with a focus on customer affordability, \n",
      "equity, and grid reliability.  \n",
      " \n"
     ]
    }
   ],
   "source": [
    "!pip install PyPDF2 --quiet\n",
    "from PyPDF2 import PdfReader\n",
    "\n",
    "pdf_path = \"/kaggle/working/raw/nem_fact_sheet.pdf\"\n",
    "\n",
    "reader = PdfReader(pdf_path)\n",
    "text = \"\"\n",
    "for page in reader.pages:\n",
    "    text += page.extract_text()\n",
    "\n",
    "print(\"🔍 PDF Content Preview:\\n\")\n",
    "print(text)\n"
   ]
  },
  {
   "cell_type": "code",
   "execution_count": null,
   "id": "e6235d47",
   "metadata": {
    "papermill": {
     "duration": 0.005565,
     "end_time": "2025-04-08T21:12:28.372660",
     "exception": false,
     "start_time": "2025-04-08T21:12:28.367095",
     "status": "completed"
    },
    "tags": []
   },
   "outputs": [],
   "source": []
  }
 ],
 "metadata": {
  "kaggle": {
   "accelerator": "none",
   "dataSources": [
    {
     "datasetId": 7088624,
     "sourceId": 11331791,
     "sourceType": "datasetVersion"
    }
   ],
   "dockerImageVersionId": 30918,
   "isGpuEnabled": false,
   "isInternetEnabled": true,
   "language": "python",
   "sourceType": "notebook"
  },
  "kernelspec": {
   "display_name": "Python 3",
   "language": "python",
   "name": "python3"
  },
  "language_info": {
   "codemirror_mode": {
    "name": "ipython",
    "version": 3
   },
   "file_extension": ".py",
   "mimetype": "text/x-python",
   "name": "python",
   "nbconvert_exporter": "python",
   "pygments_lexer": "ipython3",
   "version": "3.10.12"
  },
  "papermill": {
   "default_parameters": {},
   "duration": 65.24834,
   "end_time": "2025-04-08T21:12:29.402189",
   "environment_variables": {},
   "exception": null,
   "input_path": "__notebook__.ipynb",
   "output_path": "__notebook__.ipynb",
   "parameters": {},
   "start_time": "2025-04-08T21:11:24.153849",
   "version": "2.6.0"
  }
 },
 "nbformat": 4,
 "nbformat_minor": 5
}
